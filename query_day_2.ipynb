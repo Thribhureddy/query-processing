{
  "nbformat": 4,
  "nbformat_minor": 0,
  "metadata": {
    "colab": {
      "provenance": []
    },
    "kernelspec": {
      "name": "python3",
      "display_name": "Python 3"
    },
    "language_info": {
      "name": "python"
    }
  },
  "cells": [
    {
      "cell_type": "markdown",
      "source": [],
      "metadata": {
        "id": "b432nyoYMhcu"
      }
    },
    {
      "cell_type": "code",
      "source": [
        "#**9. Write a Pandas program to create a Pivot table and find the total sale amount region wise, manager wise, sales man wise.**"
      ],
      "metadata": {
        "id": "8xWxa0CzMzFd"
      },
      "execution_count": null,
      "outputs": []
    },
    {
      "cell_type": "code",
      "source": [
        "import pandas as pd\n",
        "\n",
        "df = pd.read_csv('Sales_data.csv')\n",
        "\n",
        "pivot_table = df.pivot_table(index=['Region', 'Manager', 'SalesMan'], values='Sale_amt', aggfunc='sum')\n",
        "\n",
        "print(pivot_table)\n"
      ],
      "metadata": {
        "colab": {
          "base_uri": "https://localhost:8080/"
        },
        "id": "Kr9JxanVMgVa",
        "outputId": "0736a5cd-62b7-4705-c2a9-c6a07ed02cd2"
      },
      "execution_count": 1,
      "outputs": [
        {
          "output_type": "stream",
          "name": "stdout",
          "text": [
            "                           Sale_amt\n",
            "Region  Manager SalesMan           \n",
            "Central Hermann Luis       150948.0\n",
            "                Shelli      25000.0\n",
            "                Sigal      107820.0\n",
            "        Martha  Alexander   57266.0\n",
            "                Steven      89850.0\n",
            "        Timothy David        6075.0\n",
            "East    Douglas John          250.0\n",
            "                Karen       40500.0\n",
            "        Hermann Sigal       14000.0\n",
            "        Martha  Alexander  173810.0\n",
            "                Diana       14500.0\n",
            "West    Douglas Michael     38336.0\n",
            "        Timothy Stephen     67088.0\n"
          ]
        }
      ]
    },
    {
      "cell_type": "markdown",
      "source": [
        "#**10.Create a dataframe of ten rows, four columns with random values. Write a Pandas program to highlight the negative numbers red and positive numbers black.**"
      ],
      "metadata": {
        "id": "itQ0LxZnNGuq"
      }
    },
    {
      "cell_type": "code",
      "source": [
        "import pandas as pd\n",
        "import numpy as np\n",
        "\n",
        "data = np.random.randn(10, 4)\n",
        "df = pd.DataFrame(data, columns=['A', 'B', 'C', 'D'])\n",
        "\n",
        "def color_negative_red(val):\n",
        "    color = 'red' if val < 0 else 'black'\n",
        "    return f'color: {color}'\n",
        "\n",
        "styled_df = df.style.applymap(color_negative_red)\n",
        "\n",
        "styled_df\n"
      ],
      "metadata": {
        "colab": {
          "base_uri": "https://localhost:8080/",
          "height": 363
        },
        "id": "HgEYsiGRNHKS",
        "outputId": "5b0185ed-adcf-42f3-f09b-0f4707eab017"
      },
      "execution_count": 2,
      "outputs": [
        {
          "output_type": "execute_result",
          "data": {
            "text/plain": [
              "<pandas.io.formats.style.Styler at 0x7e8ed7d57970>"
            ],
            "text/html": [
              "<style type=\"text/css\">\n",
              "#T_3904f_row0_col0, #T_3904f_row0_col1, #T_3904f_row0_col3, #T_3904f_row1_col0, #T_3904f_row2_col2, #T_3904f_row2_col3, #T_3904f_row3_col0, #T_3904f_row3_col2, #T_3904f_row4_col1, #T_3904f_row4_col3, #T_3904f_row5_col1, #T_3904f_row5_col2, #T_3904f_row6_col1, #T_3904f_row6_col2, #T_3904f_row6_col3, #T_3904f_row7_col2, #T_3904f_row8_col1, #T_3904f_row8_col2, #T_3904f_row8_col3, #T_3904f_row9_col0, #T_3904f_row9_col3 {\n",
              "  color: black;\n",
              "}\n",
              "#T_3904f_row0_col2, #T_3904f_row1_col1, #T_3904f_row1_col2, #T_3904f_row1_col3, #T_3904f_row2_col0, #T_3904f_row2_col1, #T_3904f_row3_col1, #T_3904f_row3_col3, #T_3904f_row4_col0, #T_3904f_row4_col2, #T_3904f_row5_col0, #T_3904f_row5_col3, #T_3904f_row6_col0, #T_3904f_row7_col0, #T_3904f_row7_col1, #T_3904f_row7_col3, #T_3904f_row8_col0, #T_3904f_row9_col1, #T_3904f_row9_col2 {\n",
              "  color: red;\n",
              "}\n",
              "</style>\n",
              "<table id=\"T_3904f\" class=\"dataframe\">\n",
              "  <thead>\n",
              "    <tr>\n",
              "      <th class=\"blank level0\" >&nbsp;</th>\n",
              "      <th id=\"T_3904f_level0_col0\" class=\"col_heading level0 col0\" >A</th>\n",
              "      <th id=\"T_3904f_level0_col1\" class=\"col_heading level0 col1\" >B</th>\n",
              "      <th id=\"T_3904f_level0_col2\" class=\"col_heading level0 col2\" >C</th>\n",
              "      <th id=\"T_3904f_level0_col3\" class=\"col_heading level0 col3\" >D</th>\n",
              "    </tr>\n",
              "  </thead>\n",
              "  <tbody>\n",
              "    <tr>\n",
              "      <th id=\"T_3904f_level0_row0\" class=\"row_heading level0 row0\" >0</th>\n",
              "      <td id=\"T_3904f_row0_col0\" class=\"data row0 col0\" >0.402038</td>\n",
              "      <td id=\"T_3904f_row0_col1\" class=\"data row0 col1\" >0.431988</td>\n",
              "      <td id=\"T_3904f_row0_col2\" class=\"data row0 col2\" >-1.579347</td>\n",
              "      <td id=\"T_3904f_row0_col3\" class=\"data row0 col3\" >0.157132</td>\n",
              "    </tr>\n",
              "    <tr>\n",
              "      <th id=\"T_3904f_level0_row1\" class=\"row_heading level0 row1\" >1</th>\n",
              "      <td id=\"T_3904f_row1_col0\" class=\"data row1 col0\" >0.101445</td>\n",
              "      <td id=\"T_3904f_row1_col1\" class=\"data row1 col1\" >-0.013311</td>\n",
              "      <td id=\"T_3904f_row1_col2\" class=\"data row1 col2\" >-0.785031</td>\n",
              "      <td id=\"T_3904f_row1_col3\" class=\"data row1 col3\" >-0.130652</td>\n",
              "    </tr>\n",
              "    <tr>\n",
              "      <th id=\"T_3904f_level0_row2\" class=\"row_heading level0 row2\" >2</th>\n",
              "      <td id=\"T_3904f_row2_col0\" class=\"data row2 col0\" >-0.437441</td>\n",
              "      <td id=\"T_3904f_row2_col1\" class=\"data row2 col1\" >-0.152740</td>\n",
              "      <td id=\"T_3904f_row2_col2\" class=\"data row2 col2\" >0.608504</td>\n",
              "      <td id=\"T_3904f_row2_col3\" class=\"data row2 col3\" >0.555047</td>\n",
              "    </tr>\n",
              "    <tr>\n",
              "      <th id=\"T_3904f_level0_row3\" class=\"row_heading level0 row3\" >3</th>\n",
              "      <td id=\"T_3904f_row3_col0\" class=\"data row3 col0\" >0.607491</td>\n",
              "      <td id=\"T_3904f_row3_col1\" class=\"data row3 col1\" >-0.434843</td>\n",
              "      <td id=\"T_3904f_row3_col2\" class=\"data row3 col2\" >0.423812</td>\n",
              "      <td id=\"T_3904f_row3_col3\" class=\"data row3 col3\" >-1.468053</td>\n",
              "    </tr>\n",
              "    <tr>\n",
              "      <th id=\"T_3904f_level0_row4\" class=\"row_heading level0 row4\" >4</th>\n",
              "      <td id=\"T_3904f_row4_col0\" class=\"data row4 col0\" >-0.343009</td>\n",
              "      <td id=\"T_3904f_row4_col1\" class=\"data row4 col1\" >0.600122</td>\n",
              "      <td id=\"T_3904f_row4_col2\" class=\"data row4 col2\" >-1.461755</td>\n",
              "      <td id=\"T_3904f_row4_col3\" class=\"data row4 col3\" >1.641870</td>\n",
              "    </tr>\n",
              "    <tr>\n",
              "      <th id=\"T_3904f_level0_row5\" class=\"row_heading level0 row5\" >5</th>\n",
              "      <td id=\"T_3904f_row5_col0\" class=\"data row5 col0\" >-0.018757</td>\n",
              "      <td id=\"T_3904f_row5_col1\" class=\"data row5 col1\" >0.885907</td>\n",
              "      <td id=\"T_3904f_row5_col2\" class=\"data row5 col2\" >0.695137</td>\n",
              "      <td id=\"T_3904f_row5_col3\" class=\"data row5 col3\" >-0.124059</td>\n",
              "    </tr>\n",
              "    <tr>\n",
              "      <th id=\"T_3904f_level0_row6\" class=\"row_heading level0 row6\" >6</th>\n",
              "      <td id=\"T_3904f_row6_col0\" class=\"data row6 col0\" >-0.038073</td>\n",
              "      <td id=\"T_3904f_row6_col1\" class=\"data row6 col1\" >0.877637</td>\n",
              "      <td id=\"T_3904f_row6_col2\" class=\"data row6 col2\" >0.006715</td>\n",
              "      <td id=\"T_3904f_row6_col3\" class=\"data row6 col3\" >0.906018</td>\n",
              "    </tr>\n",
              "    <tr>\n",
              "      <th id=\"T_3904f_level0_row7\" class=\"row_heading level0 row7\" >7</th>\n",
              "      <td id=\"T_3904f_row7_col0\" class=\"data row7 col0\" >-0.055025</td>\n",
              "      <td id=\"T_3904f_row7_col1\" class=\"data row7 col1\" >-0.138897</td>\n",
              "      <td id=\"T_3904f_row7_col2\" class=\"data row7 col2\" >0.434227</td>\n",
              "      <td id=\"T_3904f_row7_col3\" class=\"data row7 col3\" >-0.430145</td>\n",
              "    </tr>\n",
              "    <tr>\n",
              "      <th id=\"T_3904f_level0_row8\" class=\"row_heading level0 row8\" >8</th>\n",
              "      <td id=\"T_3904f_row8_col0\" class=\"data row8 col0\" >-0.850314</td>\n",
              "      <td id=\"T_3904f_row8_col1\" class=\"data row8 col1\" >0.035796</td>\n",
              "      <td id=\"T_3904f_row8_col2\" class=\"data row8 col2\" >0.896725</td>\n",
              "      <td id=\"T_3904f_row8_col3\" class=\"data row8 col3\" >1.289987</td>\n",
              "    </tr>\n",
              "    <tr>\n",
              "      <th id=\"T_3904f_level0_row9\" class=\"row_heading level0 row9\" >9</th>\n",
              "      <td id=\"T_3904f_row9_col0\" class=\"data row9 col0\" >0.283504</td>\n",
              "      <td id=\"T_3904f_row9_col1\" class=\"data row9 col1\" >-0.154509</td>\n",
              "      <td id=\"T_3904f_row9_col2\" class=\"data row9 col2\" >-0.466503</td>\n",
              "      <td id=\"T_3904f_row9_col3\" class=\"data row9 col3\" >1.098022</td>\n",
              "    </tr>\n",
              "  </tbody>\n",
              "</table>\n"
            ]
          },
          "metadata": {},
          "execution_count": 2
        }
      ]
    },
    {
      "cell_type": "markdown",
      "source": [
        "#**11.Create a dataframe of ten rows, four columns with random values. Convert some values to nan values. Write a Pandas program which will highlight the nan values.**"
      ],
      "metadata": {
        "id": "rj_ISXnwNZAY"
      }
    },
    {
      "cell_type": "code",
      "source": [
        "import pandas as pd\n",
        "import numpy as np\n",
        "\n",
        "data = np.random.randn(10, 4)\n",
        "df = pd.DataFrame(data, columns=['A', 'B', 'C', 'D'])\n",
        "\n",
        "df.iloc[2, 1] = np.nan\n",
        "df.iloc[5, 3] = np.nan\n",
        "df.iloc[7, 0] = np.nan\n",
        "\n",
        "def highlight_nan(val):\n",
        "    return f'background-color: yellow' if pd.isna(val) else ''\n",
        "\n",
        "styled_df = df.style.applymap(highlight_nan)\n",
        "\n",
        "styled_df"
      ],
      "metadata": {
        "id": "g4vsyPcONYs3"
      },
      "execution_count": null,
      "outputs": []
    },
    {
      "cell_type": "markdown",
      "source": [
        "#**12.Create a dataframe of ten rows, four columns with random values. Write a Pandas program to set dataframe background Color black and font color yellow.**"
      ],
      "metadata": {
        "id": "CCFj_b8LNj83"
      }
    },
    {
      "cell_type": "code",
      "source": [
        "import pandas as pd\n",
        "import numpy as np\n",
        "\n",
        "data = np.random.randn(10, 4)\n",
        "df = pd.DataFrame(data, columns=['A', 'B', 'C', 'D'])\n",
        "\n",
        "def set_styles(val):\n",
        "    return f'background-color: black; color: yellow;'\n",
        "\n",
        "styled_df = df.style.applymap(set_styles)\n",
        "\n",
        "styled_df"
      ],
      "metadata": {
        "colab": {
          "base_uri": "https://localhost:8080/",
          "height": 363
        },
        "id": "kdywreltNkb2",
        "outputId": "f2468213-0f58-44ae-d7d9-e18e77367bf2"
      },
      "execution_count": 3,
      "outputs": [
        {
          "output_type": "execute_result",
          "data": {
            "text/plain": [
              "<pandas.io.formats.style.Styler at 0x7e8f0debfe20>"
            ],
            "text/html": [
              "<style type=\"text/css\">\n",
              "#T_36e2c_row0_col0, #T_36e2c_row0_col1, #T_36e2c_row0_col2, #T_36e2c_row0_col3, #T_36e2c_row1_col0, #T_36e2c_row1_col1, #T_36e2c_row1_col2, #T_36e2c_row1_col3, #T_36e2c_row2_col0, #T_36e2c_row2_col1, #T_36e2c_row2_col2, #T_36e2c_row2_col3, #T_36e2c_row3_col0, #T_36e2c_row3_col1, #T_36e2c_row3_col2, #T_36e2c_row3_col3, #T_36e2c_row4_col0, #T_36e2c_row4_col1, #T_36e2c_row4_col2, #T_36e2c_row4_col3, #T_36e2c_row5_col0, #T_36e2c_row5_col1, #T_36e2c_row5_col2, #T_36e2c_row5_col3, #T_36e2c_row6_col0, #T_36e2c_row6_col1, #T_36e2c_row6_col2, #T_36e2c_row6_col3, #T_36e2c_row7_col0, #T_36e2c_row7_col1, #T_36e2c_row7_col2, #T_36e2c_row7_col3, #T_36e2c_row8_col0, #T_36e2c_row8_col1, #T_36e2c_row8_col2, #T_36e2c_row8_col3, #T_36e2c_row9_col0, #T_36e2c_row9_col1, #T_36e2c_row9_col2, #T_36e2c_row9_col3 {\n",
              "  background-color: black;\n",
              "  color: yellow;\n",
              "}\n",
              "</style>\n",
              "<table id=\"T_36e2c\" class=\"dataframe\">\n",
              "  <thead>\n",
              "    <tr>\n",
              "      <th class=\"blank level0\" >&nbsp;</th>\n",
              "      <th id=\"T_36e2c_level0_col0\" class=\"col_heading level0 col0\" >A</th>\n",
              "      <th id=\"T_36e2c_level0_col1\" class=\"col_heading level0 col1\" >B</th>\n",
              "      <th id=\"T_36e2c_level0_col2\" class=\"col_heading level0 col2\" >C</th>\n",
              "      <th id=\"T_36e2c_level0_col3\" class=\"col_heading level0 col3\" >D</th>\n",
              "    </tr>\n",
              "  </thead>\n",
              "  <tbody>\n",
              "    <tr>\n",
              "      <th id=\"T_36e2c_level0_row0\" class=\"row_heading level0 row0\" >0</th>\n",
              "      <td id=\"T_36e2c_row0_col0\" class=\"data row0 col0\" >-1.416928</td>\n",
              "      <td id=\"T_36e2c_row0_col1\" class=\"data row0 col1\" >-0.738142</td>\n",
              "      <td id=\"T_36e2c_row0_col2\" class=\"data row0 col2\" >-0.229822</td>\n",
              "      <td id=\"T_36e2c_row0_col3\" class=\"data row0 col3\" >0.770761</td>\n",
              "    </tr>\n",
              "    <tr>\n",
              "      <th id=\"T_36e2c_level0_row1\" class=\"row_heading level0 row1\" >1</th>\n",
              "      <td id=\"T_36e2c_row1_col0\" class=\"data row1 col0\" >0.544692</td>\n",
              "      <td id=\"T_36e2c_row1_col1\" class=\"data row1 col1\" >0.995419</td>\n",
              "      <td id=\"T_36e2c_row1_col2\" class=\"data row1 col2\" >1.055460</td>\n",
              "      <td id=\"T_36e2c_row1_col3\" class=\"data row1 col3\" >-0.501175</td>\n",
              "    </tr>\n",
              "    <tr>\n",
              "      <th id=\"T_36e2c_level0_row2\" class=\"row_heading level0 row2\" >2</th>\n",
              "      <td id=\"T_36e2c_row2_col0\" class=\"data row2 col0\" >0.112236</td>\n",
              "      <td id=\"T_36e2c_row2_col1\" class=\"data row2 col1\" >-0.758312</td>\n",
              "      <td id=\"T_36e2c_row2_col2\" class=\"data row2 col2\" >0.370879</td>\n",
              "      <td id=\"T_36e2c_row2_col3\" class=\"data row2 col3\" >1.136565</td>\n",
              "    </tr>\n",
              "    <tr>\n",
              "      <th id=\"T_36e2c_level0_row3\" class=\"row_heading level0 row3\" >3</th>\n",
              "      <td id=\"T_36e2c_row3_col0\" class=\"data row3 col0\" >-0.804892</td>\n",
              "      <td id=\"T_36e2c_row3_col1\" class=\"data row3 col1\" >-1.119071</td>\n",
              "      <td id=\"T_36e2c_row3_col2\" class=\"data row3 col2\" >0.712051</td>\n",
              "      <td id=\"T_36e2c_row3_col3\" class=\"data row3 col3\" >-0.165078</td>\n",
              "    </tr>\n",
              "    <tr>\n",
              "      <th id=\"T_36e2c_level0_row4\" class=\"row_heading level0 row4\" >4</th>\n",
              "      <td id=\"T_36e2c_row4_col0\" class=\"data row4 col0\" >-0.504900</td>\n",
              "      <td id=\"T_36e2c_row4_col1\" class=\"data row4 col1\" >-0.904581</td>\n",
              "      <td id=\"T_36e2c_row4_col2\" class=\"data row4 col2\" >0.824364</td>\n",
              "      <td id=\"T_36e2c_row4_col3\" class=\"data row4 col3\" >0.062294</td>\n",
              "    </tr>\n",
              "    <tr>\n",
              "      <th id=\"T_36e2c_level0_row5\" class=\"row_heading level0 row5\" >5</th>\n",
              "      <td id=\"T_36e2c_row5_col0\" class=\"data row5 col0\" >-0.825361</td>\n",
              "      <td id=\"T_36e2c_row5_col1\" class=\"data row5 col1\" >-2.484851</td>\n",
              "      <td id=\"T_36e2c_row5_col2\" class=\"data row5 col2\" >0.020250</td>\n",
              "      <td id=\"T_36e2c_row5_col3\" class=\"data row5 col3\" >0.983321</td>\n",
              "    </tr>\n",
              "    <tr>\n",
              "      <th id=\"T_36e2c_level0_row6\" class=\"row_heading level0 row6\" >6</th>\n",
              "      <td id=\"T_36e2c_row6_col0\" class=\"data row6 col0\" >-0.276493</td>\n",
              "      <td id=\"T_36e2c_row6_col1\" class=\"data row6 col1\" >-0.228151</td>\n",
              "      <td id=\"T_36e2c_row6_col2\" class=\"data row6 col2\" >-1.040373</td>\n",
              "      <td id=\"T_36e2c_row6_col3\" class=\"data row6 col3\" >0.821424</td>\n",
              "    </tr>\n",
              "    <tr>\n",
              "      <th id=\"T_36e2c_level0_row7\" class=\"row_heading level0 row7\" >7</th>\n",
              "      <td id=\"T_36e2c_row7_col0\" class=\"data row7 col0\" >-0.142195</td>\n",
              "      <td id=\"T_36e2c_row7_col1\" class=\"data row7 col1\" >0.455102</td>\n",
              "      <td id=\"T_36e2c_row7_col2\" class=\"data row7 col2\" >0.280936</td>\n",
              "      <td id=\"T_36e2c_row7_col3\" class=\"data row7 col3\" >0.340815</td>\n",
              "    </tr>\n",
              "    <tr>\n",
              "      <th id=\"T_36e2c_level0_row8\" class=\"row_heading level0 row8\" >8</th>\n",
              "      <td id=\"T_36e2c_row8_col0\" class=\"data row8 col0\" >1.098201</td>\n",
              "      <td id=\"T_36e2c_row8_col1\" class=\"data row8 col1\" >-1.245951</td>\n",
              "      <td id=\"T_36e2c_row8_col2\" class=\"data row8 col2\" >1.204071</td>\n",
              "      <td id=\"T_36e2c_row8_col3\" class=\"data row8 col3\" >0.273843</td>\n",
              "    </tr>\n",
              "    <tr>\n",
              "      <th id=\"T_36e2c_level0_row9\" class=\"row_heading level0 row9\" >9</th>\n",
              "      <td id=\"T_36e2c_row9_col0\" class=\"data row9 col0\" >0.669442</td>\n",
              "      <td id=\"T_36e2c_row9_col1\" class=\"data row9 col1\" >-0.708444</td>\n",
              "      <td id=\"T_36e2c_row9_col2\" class=\"data row9 col2\" >-0.257452</td>\n",
              "      <td id=\"T_36e2c_row9_col3\" class=\"data row9 col3\" >2.189633</td>\n",
              "    </tr>\n",
              "  </tbody>\n",
              "</table>\n"
            ]
          },
          "metadata": {},
          "execution_count": 3
        }
      ]
    },
    {
      "cell_type": "markdown",
      "source": [
        "#**13.Write a Pandas program to detect missing values of a given DataFrame. Display True or False.**"
      ],
      "metadata": {
        "id": "67LSaNFkNv1R"
      }
    },
    {
      "cell_type": "code",
      "source": [
        "import pandas as pd\n",
        "import numpy as np\n",
        "data = {\n",
        "'ord_no':[70001,np.nan,70002,70004,np.nan,70005,np.nan,70010,70003,70012,np.nan,70013],\n",
        "'purch_amt':[150.5,270.65,65.26,110.5,948.5,2400.6,5760,1983.43,2480.4,250.45, 75.29,3045.6],\n",
        "'ord_date': ['2012-10-05','2012-09-10',np.nan,'2012-08-17','2012-09-10','2012-07-27','2012-09-10','2012-10-10','2012-10-10','2012-06-27','2012-08-17','2012-04-25'],\n",
        "'customer_id':[3002,3001,3001,3003,3002,3001,3001,3004,3003,3002,3001,3001],\n",
        "'salesman_id':[5002,5003,5001,np.nan,5002,5001,5001,np.nan,5003,5002,5003,np.nan]}\n",
        "df =pd.DataFrame(data)\n",
        "missing_values = df.isna()\n",
        "print(missing_values)"
      ],
      "metadata": {
        "colab": {
          "base_uri": "https://localhost:8080/"
        },
        "id": "8lCIR6RFNvfI",
        "outputId": "4f82e39c-3353-4adf-cd49-6e860cb5a8a4"
      },
      "execution_count": 4,
      "outputs": [
        {
          "output_type": "stream",
          "name": "stdout",
          "text": [
            "    ord_no  purch_amt  ord_date  customer_id  salesman_id\n",
            "0    False      False     False        False        False\n",
            "1     True      False     False        False        False\n",
            "2    False      False      True        False        False\n",
            "3    False      False     False        False         True\n",
            "4     True      False     False        False        False\n",
            "5    False      False     False        False        False\n",
            "6     True      False     False        False        False\n",
            "7    False      False     False        False         True\n",
            "8    False      False     False        False        False\n",
            "9    False      False     False        False        False\n",
            "10    True      False     False        False        False\n",
            "11   False      False     False        False         True\n"
          ]
        }
      ]
    },
    {
      "cell_type": "markdown",
      "source": [
        "#**14. Write a Pandas program to find and replace the missing values in a given DataFrame which do not have any valuable information.**"
      ],
      "metadata": {
        "id": "3OFXikaMN6Su"
      }
    },
    {
      "cell_type": "code",
      "source": [
        "import pandas as pd\n",
        "data=pd.read_csv('customer_id.csv')\n",
        "missing_values=data.fillna(0)\n",
        "print(missing_values)\n",
        ""
      ],
      "metadata": {
        "colab": {
          "base_uri": "https://localhost:8080/"
        },
        "id": "KkJU8U4FN5p2",
        "outputId": "08941d2d-f0a0-4712-88a6-0a1797f8fba8"
      },
      "execution_count": 1,
      "outputs": [
        {
          "output_type": "stream",
          "name": "stdout",
          "text": [
            "     ord_no  purch_amt    ord_date  customer_id  salesman_id\n",
            "0   70001.0     150.50  2012-10-05         3002       5002.0\n",
            "1       0.0     270.65  2012-09-10         3001       5003.0\n",
            "2   70002.0      65.26           0         3001       5001.0\n",
            "3   70004.0     110.50  2012-08-17         3003          0.0\n",
            "4       0.0     948.50  2012-09-10         3002       5002.0\n",
            "5   70005.0    2400.60  2012-07-27         3001       5001.0\n",
            "6       0.0    5760.00  2012-09-10         3001       5001.0\n",
            "7   70010.0    1983.43  2012-10-10         3004          0.0\n",
            "8   70003.0    2480.40  2012-10-10         3003       5003.0\n",
            "9   70012.0     250.45  2012-06-27         3002       5002.0\n",
            "10      0.0      75.29  2012-08-17         3001       5003.0\n",
            "11  70013.0    3045.60  2012-04-25         3001          0.0\n"
          ]
        }
      ]
    },
    {
      "cell_type": "markdown",
      "source": [
        "#**15.Write a Pandas program to keep the rows with at least 2 NaN values in a given DataFrame.**"
      ],
      "metadata": {
        "id": "SI7daIj0xqDB"
      }
    },
    {
      "cell_type": "code",
      "source": [
        "import pandas as pd\n",
        "\n",
        "# Provide the correct file path for your Excel file.\n",
        "df = pd.read_excel('purchase_data.csv.xlsx')\n",
        "\n",
        "# Continue with your data processing as needed.\n",
        "nan_values = df.isna().sum(axis=1)\n",
        "df = df[nan_values >= 2]\n",
        "print(df)\n"
      ],
      "metadata": {
        "colab": {
          "base_uri": "https://localhost:8080/"
        },
        "id": "DLKS1HsNxk6y",
        "outputId": "6c1ee37c-0773-453a-f743-d0e5781a3812"
      },
      "execution_count": 6,
      "outputs": [
        {
          "output_type": "stream",
          "name": "stdout",
          "text": [
            "    Unnamed: 0  ord_no  purch_amt ord_date  customer_id\n",
            "0            0     NaN        NaN      NaN          NaN\n",
            "3            3     NaN        NaN      NaN          NaN\n",
            "11          11     NaN        NaN      NaN          NaN\n"
          ]
        }
      ]
    },
    {
      "cell_type": "markdown",
      "source": [
        "#**16.Write a Pandas program to split the following dataframe into groups based on school code. Also check the type of GroupBy object.**"
      ],
      "metadata": {
        "id": "4nlObM5qyBvh"
      }
    },
    {
      "cell_type": "code",
      "source": [
        "import pandas as pd\n",
        "data=pd.read_csv('school_data.csv')\n",
        "grouped = data.groupby('school')\n",
        "print(grouped)\n",
        "print(type(grouped))"
      ],
      "metadata": {
        "colab": {
          "base_uri": "https://localhost:8080/"
        },
        "id": "WOG7iRlzyAHI",
        "outputId": "8e6a33a2-d285-4389-a8cd-42da8dbe5ed5"
      },
      "execution_count": 2,
      "outputs": [
        {
          "output_type": "stream",
          "name": "stdout",
          "text": [
            "<pandas.core.groupby.generic.DataFrameGroupBy object at 0x7c8a453df9a0>\n",
            "<class 'pandas.core.groupby.generic.DataFrameGroupBy'>\n"
          ]
        }
      ]
    }
  ]
}